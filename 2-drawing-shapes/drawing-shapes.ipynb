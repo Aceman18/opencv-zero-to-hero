{
 "cells": [
  {
   "cell_type": "markdown",
   "metadata": {},
   "source": [
    "# Full api reference\n",
    "https://docs.opencv.org/2.4/modules/core/doc/drawing_functions.html"
   ]
  },
  {
   "cell_type": "markdown",
   "metadata": {},
   "source": [
    "# Line\n",
    "Python: cv2.line(img, point(pt1, pt2), color(r,g,b), thickness, lineType[, shift]]])\n",
    "\n",
    "Parameters:\t\n",
    "\n",
    "- **img** – Image.\n",
    "- **pt1** – First point of the line segment.\n",
    "- **pt2** – Second point of the line segment.\n",
    "- **color** – Line color.\n",
    "- **thickness** – Line thickness.\n",
    "- **lineType** – Type of the line: 8 (or omitted) - 8-connected line | 4 - 4-connected line. | CV_AA - antialiased line.\n",
    "- **shift** – Number of fractional bits in the point coordinates.\n",
    "\n",
    "https://docs.opencv.org/2.4/modules/core/doc/drawing_functions.html#line"
   ]
  },
  {
   "cell_type": "code",
   "execution_count": 1,
   "metadata": {},
   "outputs": [
    {
     "data": {
      "image/png": "[encoded data removed]",
      "text/plain": [
       "<Figure size 432x288 with 1 Axes>"
      ]
     },
     "metadata": {
      "needs_background": "light"
     },
     "output_type": "display_data"
    }
   ],
   "source": [
    "import numpy as np\n",
    "import cv2\n",
    "from matplotlib import pyplot as plt\n",
    "\n",
    "# Create a black image\n",
    "img = np.zeros((512,512,3), np.uint8)\n",
    "# Draw a diagonal line\n",
    "img = cv2.line(img,(0,0),(511,511),(255,0,0),3)\n",
    "# plt.xticks([]), plt.yticks([])  # hide X and Y axis\n",
    "plt.imshow(img)\n",
    "\n",
    "plt.show()"
   ]
  },
  {
   "cell_type": "markdown",
   "metadata": {},
   "source": [
    "# Rectangle\n",
    "Python: cv2.rectangle(img, pt1, pt2, color[, thickness[, lineType[, shift]]]) → None\n",
    "\n",
    "Parameters:\t\n",
    "\n",
    "- **img** – Image.\n",
    "- **pt1** – Vertex of the rectangle.\n",
    "- **pt2** – Vertex of the rectangle opposite to pt1 .\n",
    "- **rec** – Alternative specification of the drawn rectangle.\n",
    "- **color** – Rectangle color or brightness (grayscale image).\n",
    "- **thickness** – Thickness of lines that make up the rectangle. Negative values, like CV_FILLED , mean that the function has to draw a filled rectangle.\n",
    "- **lineType** – Type of the line. See the line() description.\n",
    "- **shift** – Number of fractional bits in the point coordinates.\n",
    "\n",
    "https://docs.opencv.org/2.4/modules/core/doc/drawing_functions.html#rectangle"
   ]
  },
  {
   "cell_type": "code",
   "execution_count": 2,
   "metadata": {},
   "outputs": [
    {
     "data": {
      "image/png": "[encoded data removed]",
      "text/plain": [
       "<Figure size 432x288 with 1 Axes>"
      ]
     },
     "metadata": {
      "needs_background": "light"
     },
     "output_type": "display_data"
    }
   ],
   "source": [
    "import numpy as np\n",
    "import cv2\n",
    "from matplotlib import pyplot as plt\n",
    "\n",
    "# Create a black image\n",
    "img = np.zeros((512,512,3), np.uint8)\n",
    "# Draw a diagonal line\n",
    "img = cv2.rectangle(img,(384,0),(510,128),(0,255,0),3)\n",
    "# plt.xticks([]), plt.yticks([])  # hide X and Y axis\n",
    "plt.imshow(img)\n",
    "\n",
    "plt.show()"
   ]
  },
  {
   "cell_type": "markdown",
   "metadata": {},
   "source": [
    "# Ellipse\n",
    "Python: cv2.ellipse(img, center, axes, angle, startAngle, endAngle, color[, thickness[, lineType[, shift]]]) → None\n",
    "Python: cv2.ellipse(img, box, color[, thickness[, lineType]]) → None\n",
    "\n",
    "Parameters:\t\n",
    "\n",
    "- **img** – Image.\n",
    "- **center** – Center of the ellipse.\n",
    "- **axes** – Half of the size of the ellipse main axes.\n",
    "- **angle** – Ellipse rotation angle in degrees.\n",
    "- **startAngle** – Starting angle of the elliptic arc in degrees.\n",
    "- **endAngle** – Ending angle of the elliptic arc in degrees.\n",
    "- **box** – Alternative ellipse representation via RotatedRect or CvBox2D. This means that the function draws an ellipse inscribed in the rotated rectangle.\n",
    "- **color** – Ellipse color.\n",
    "- **thickness** – Thickness of the ellipse arc outline, if positive. Otherwise, this indicates that a filled ellipse sector is to be drawn.\n",
    "- **lineType** – Type of the ellipse boundary. See the line() description.\n",
    "- **shift** – Number of fractional bits in the coordinates of the center and values of axes.\n",
    "\n",
    "https://docs.opencv.org/2.4/modules/core/doc/drawing_functions.html#ellipse"
   ]
  },
  {
   "cell_type": "code",
   "execution_count": 3,
   "metadata": {},
   "outputs": [
    {
     "data": {
      "image/png": "[encoded data removed]",
      "text/plain": [
       "<Figure size 432x288 with 1 Axes>"
      ]
     },
     "metadata": {
      "needs_background": "light"
     },
     "output_type": "display_data"
    }
   ],
   "source": [
    "import numpy as np\n",
    "import cv2\n",
    "from matplotlib import pyplot as plt\n",
    "\n",
    "# Create a black image\n",
    "img = np.zeros((512,512,3), np.uint8)\n",
    "# Draw a diagonal line\n",
    "img = cv2.ellipse(img,(256,256),(100,50),0,0,180,255,-1)\n",
    "# plt.xticks([]), plt.yticks([])  # hide X and Y axis\n",
    "plt.imshow(img)\n",
    "\n",
    "plt.show()"
   ]
  },
  {
   "cell_type": "code",
   "execution_count": null,
   "metadata": {},
   "outputs": [],
   "source": []
  }
 ],
 "metadata": {
  "kernelspec": {
   "display_name": "Python 3",
   "language": "python",
   "name": "python3"
  },
  "language_info": {
   "codemirror_mode": {
    "name": "ipython",
    "version": 3
   },
   "file_extension": ".py",
   "mimetype": "text/x-python",
   "name": "python",
   "nbconvert_exporter": "python",
   "pygments_lexer": "ipython3",
   "version": "3.7.6"
  }
 },
 "nbformat": 4,
 "nbformat_minor": 4
}
